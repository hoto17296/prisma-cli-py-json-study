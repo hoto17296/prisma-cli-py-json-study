{
 "cells": [
  {
   "cell_type": "code",
   "execution_count": 1,
   "id": "ec8a6b37",
   "metadata": {},
   "outputs": [],
   "source": [
    "from typing import TypedDict, cast\n",
    "from prisma import Prisma\n",
    "from prisma.fields import Json"
   ]
  },
  {
   "cell_type": "code",
   "execution_count": 3,
   "id": "a767f7f6",
   "metadata": {},
   "outputs": [],
   "source": [
    "db = Prisma(auto_register=True)\n",
    "await db.connect()"
   ]
  },
  {
   "cell_type": "markdown",
   "id": "300d5d7f",
   "metadata": {},
   "source": [
    "INSERT / UPDATE 時には dict を入れることができるが、型を Json にしないといけない"
   ]
  },
  {
   "cell_type": "code",
   "execution_count": null,
   "id": "caf97480",
   "metadata": {},
   "outputs": [
    {
     "data": {
      "text/plain": [
       "Parent(id='6db14242-917f-40f6-86f7-cd07979d268e', created_at=datetime.datetime(2025, 5, 12, 9, 36, 44, 413000, tzinfo=TzInfo(UTC)), children=None, name='foo', meta={})"
      ]
     },
     "execution_count": 4,
     "metadata": {},
     "output_type": "execute_result"
    }
   ],
   "source": [
    "await db.parent.create(\n",
    "    {\n",
    "        \"name\": \"foo\",\n",
    "        \"meta\": Json({}),\n",
    "        \"children\": {\n",
    "            \"create\": [\n",
    "                {\n",
    "                    \"name\": \"bar\",\n",
    "                    \"meta\": Json({}),\n",
    "                }\n",
    "            ]\n",
    "        },\n",
    "    }\n",
    ")"
   ]
  },
  {
   "cell_type": "markdown",
   "id": "504137de",
   "metadata": {},
   "source": [
    "値がただの dict ではなく TypedDict の場合は「Serializable でない」として型エラーが出るが、dict に cast すれば問題ない"
   ]
  },
  {
   "cell_type": "code",
   "execution_count": 4,
   "id": "727435ad",
   "metadata": {},
   "outputs": [
    {
     "data": {
      "text/plain": [
       "Parent(id='38fb9419-595d-41fc-97cf-331f44a80260', created_at=datetime.datetime(2025, 5, 12, 9, 41, 57, 609000, tzinfo=TzInfo(UTC)), children=None, name='foo', meta={'count': 123})"
      ]
     },
     "execution_count": 4,
     "metadata": {},
     "output_type": "execute_result"
    }
   ],
   "source": [
    "class ParentMeta(TypedDict):\n",
    "    count: int\n",
    "\n",
    "\n",
    "class ChildMeta(TypedDict):\n",
    "    count: int\n",
    "\n",
    "\n",
    "parent_meta: ParentMeta = {\"count\": 123}\n",
    "child_meta: ChildMeta = {\"count\": 456}\n",
    "\n",
    "\n",
    "await db.parent.create(\n",
    "    {\n",
    "        \"name\": \"foo\",\n",
    "        \"meta\": Json(cast(dict, parent_meta)),\n",
    "        \"children\": {\n",
    "            \"create\": [\n",
    "                {\n",
    "                    \"name\": \"bar\",\n",
    "                    \"meta\": Json(cast(dict, child_meta)),\n",
    "                }\n",
    "            ]\n",
    "        },\n",
    "    }\n",
    ")"
   ]
  },
  {
   "cell_type": "markdown",
   "id": "06c5441c",
   "metadata": {},
   "source": [
    "SELECT: 実態は dict だが型ヒントは Json となっている (Annotated なので問題ない？)"
   ]
  },
  {
   "cell_type": "code",
   "execution_count": 5,
   "id": "d8f5d72b",
   "metadata": {},
   "outputs": [
    {
     "name": "stdout",
     "output_type": "stream",
     "text": [
      "<class 'dict'>\n"
     ]
    }
   ],
   "source": [
    "parent = await db.parent.find_first_or_raise(\n",
    "    order={\"created_at\": \"desc\"},\n",
    "    include={\"children\": True},\n",
    ")\n",
    "print(type(parent.meta))  # 型ヒントは Json 型"
   ]
  },
  {
   "cell_type": "code",
   "execution_count": null,
   "id": "591b03e9",
   "metadata": {},
   "outputs": [],
   "source": []
  }
 ],
 "metadata": {
  "kernelspec": {
   "display_name": "Python 3",
   "language": "python",
   "name": "python3"
  },
  "language_info": {
   "codemirror_mode": {
    "name": "ipython",
    "version": 3
   },
   "file_extension": ".py",
   "mimetype": "text/x-python",
   "name": "python",
   "nbconvert_exporter": "python",
   "pygments_lexer": "ipython3",
   "version": "3.13.3"
  }
 },
 "nbformat": 4,
 "nbformat_minor": 5
}
