{
 "cells": [
  {
   "cell_type": "code",
   "execution_count": null,
   "id": "ec8a6b37",
   "metadata": {},
   "outputs": [],
   "source": [
    "from typing import Any, cast\n",
    "\n",
    "from prisma import Prisma\n",
    "from prisma.fields import Json\n",
    "from prisma.models import Parent"
   ]
  },
  {
   "cell_type": "code",
   "execution_count": 2,
   "id": "a767f7f6",
   "metadata": {},
   "outputs": [],
   "source": [
    "def cast_to_prisma_json(value: Any) -> Json:\n",
    "    \"\"\"Prisma の Json 型フィールドの create/update に使用できる値に変換する\"\"\"\n",
    "    return Json(cast(str, value))"
   ]
  },
  {
   "cell_type": "code",
   "execution_count": 3,
   "id": "caf97480",
   "metadata": {},
   "outputs": [
    {
     "name": "stdout",
     "output_type": "stream",
     "text": [
      "<class 'dict'>\n"
     ]
    }
   ],
   "source": [
    "async with Prisma(auto_register=True):\n",
    "\n",
    "    # INSERT: dict を入れることができるが、型を Json にしないといけない\n",
    "    await Parent.prisma().create(\n",
    "        {\n",
    "            \"name\": \"foo\",\n",
    "            \"meta\": cast_to_prisma_json({}),\n",
    "            \"children\": {\n",
    "                \"create\": [\n",
    "                    {\n",
    "                        \"name\": \"bar\",\n",
    "                        \"meta\": cast_to_prisma_json({}),\n",
    "                    }\n",
    "                ]\n",
    "            },\n",
    "        }\n",
    "    )\n",
    "\n",
    "    # SELECT: 実態は dict だが型ヒントは Json となっているので FastAPI で ResnponseType に指定できない\n",
    "    parent = await Parent.prisma().find_first_or_raise(\n",
    "        order={\"created_at\": \"desc\"},\n",
    "        include={\"children\": True},\n",
    "    )\n",
    "    print(type(parent.meta))"
   ]
  },
  {
   "cell_type": "code",
   "execution_count": null,
   "id": "d8f5d72b",
   "metadata": {},
   "outputs": [],
   "source": []
  }
 ],
 "metadata": {
  "kernelspec": {
   "display_name": "Python 3",
   "language": "python",
   "name": "python3"
  },
  "language_info": {
   "codemirror_mode": {
    "name": "ipython",
    "version": 3
   },
   "file_extension": ".py",
   "mimetype": "text/x-python",
   "name": "python",
   "nbconvert_exporter": "python",
   "pygments_lexer": "ipython3",
   "version": "3.13.3"
  }
 },
 "nbformat": 4,
 "nbformat_minor": 5
}
