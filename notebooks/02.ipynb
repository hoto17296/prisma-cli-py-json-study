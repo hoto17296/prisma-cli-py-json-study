{
 "cells": [
  {
   "cell_type": "markdown",
   "id": "18333279",
   "metadata": {},
   "source": [
    "フィールドの型を上書きできるか？というアプローチ (できなかった)"
   ]
  },
  {
   "cell_type": "code",
   "execution_count": null,
   "id": "c7d5ea17",
   "metadata": {},
   "outputs": [],
   "source": [
    "from typing import TypedDict\n",
    "\n",
    "from prisma import Prisma\n",
    "from prisma.bases import BaseChild, BaseParent"
   ]
  },
  {
   "cell_type": "code",
   "execution_count": 2,
   "id": "31327092",
   "metadata": {},
   "outputs": [],
   "source": [
    "class ChildMeta(TypedDict):\n",
    "    pass\n",
    "\n",
    "\n",
    "class Child(BaseChild):\n",
    "    meta: ChildMeta\n",
    "\n",
    "\n",
    "class ParentMeta(TypedDict):\n",
    "    pass\n",
    "\n",
    "\n",
    "class Parent(BaseParent):\n",
    "    children: list[Child]\n",
    "    meta: ParentMeta"
   ]
  },
  {
   "cell_type": "code",
   "execution_count": 3,
   "id": "6ba30e46",
   "metadata": {},
   "outputs": [
    {
     "ename": "DataError",
     "evalue": "Unable to match input value to any allowed input type for the field. Parse errors: [Unable to match input value to any allowed input type for the field. Parse errors: [Invalid argument type. `meta` should be of any of the following types: `JsonNullValueInput`, Invalid argument type. `meta` should be of any of the following types: `Json`], Unable to match input value to any allowed input type for the field. Parse errors: [Invalid argument type. `meta` should be of any of the following types: `JsonNullValueInput`, Invalid argument type. `meta` should be of any of the following types: `Json`]]",
     "output_type": "error",
     "traceback": [
      "\u001b[31m---------------------------------------------------------------------------\u001b[39m",
      "\u001b[31mDataError\u001b[39m                                 Traceback (most recent call last)",
      "\u001b[36mCell\u001b[39m\u001b[36m \u001b[39m\u001b[32mIn[3]\u001b[39m\u001b[32m, line 4\u001b[39m\n\u001b[32m      1\u001b[39m \u001b[38;5;28;01masync\u001b[39;00m \u001b[38;5;28;01mwith\u001b[39;00m Prisma(auto_register=\u001b[38;5;28;01mTrue\u001b[39;00m):\n\u001b[32m      2\u001b[39m \n\u001b[32m      3\u001b[39m     \u001b[38;5;66;03m# INSERT: ParentCreateInput は書き換えれないのでエラーが出てしまう...\u001b[39;00m\n\u001b[32m----> \u001b[39m\u001b[32m4\u001b[39m     \u001b[38;5;28;01mawait\u001b[39;00m Parent.prisma().create(\n\u001b[32m      5\u001b[39m         {\n\u001b[32m      6\u001b[39m             \u001b[33m\"\u001b[39m\u001b[33mname\u001b[39m\u001b[33m\"\u001b[39m: \u001b[33m\"\u001b[39m\u001b[33mfoo\u001b[39m\u001b[33m\"\u001b[39m,\n\u001b[32m      7\u001b[39m             \u001b[33m\"\u001b[39m\u001b[33mmeta\u001b[39m\u001b[33m\"\u001b[39m: ParentMeta(),\n\u001b[32m      8\u001b[39m             \u001b[33m\"\u001b[39m\u001b[33mchildren\u001b[39m\u001b[33m\"\u001b[39m: {\n\u001b[32m      9\u001b[39m                 \u001b[33m\"\u001b[39m\u001b[33mcreate\u001b[39m\u001b[33m\"\u001b[39m: [\n\u001b[32m     10\u001b[39m                     {\n\u001b[32m     11\u001b[39m                         \u001b[33m\"\u001b[39m\u001b[33mname\u001b[39m\u001b[33m\"\u001b[39m: \u001b[33m\"\u001b[39m\u001b[33mbar\u001b[39m\u001b[33m\"\u001b[39m,\n\u001b[32m     12\u001b[39m                         \u001b[33m\"\u001b[39m\u001b[33mmeta\u001b[39m\u001b[33m\"\u001b[39m: ChildMeta(),\n\u001b[32m     13\u001b[39m                     }\n\u001b[32m     14\u001b[39m                 ]\n\u001b[32m     15\u001b[39m             },\n\u001b[32m     16\u001b[39m         }\n\u001b[32m     17\u001b[39m     )\n\u001b[32m     19\u001b[39m     \u001b[38;5;66;03m# SELECT: こちらもエラーが出る\u001b[39;00m\n\u001b[32m     20\u001b[39m     parent = \u001b[38;5;28;01mawait\u001b[39;00m Parent.prisma().find_first_or_raise(\n\u001b[32m     21\u001b[39m         order={\u001b[33m\"\u001b[39m\u001b[33mcreated_at\u001b[39m\u001b[33m\"\u001b[39m: \u001b[33m\"\u001b[39m\u001b[33mdesc\u001b[39m\u001b[33m\"\u001b[39m},\n\u001b[32m     22\u001b[39m         include={\u001b[33m\"\u001b[39m\u001b[33mchildren\u001b[39m\u001b[33m\"\u001b[39m: \u001b[38;5;28;01mTrue\u001b[39;00m},\n\u001b[32m     23\u001b[39m     )\n",
      "\u001b[36mFile \u001b[39m\u001b[32m/usr/local/lib/python3.13/site-packages/prisma/actions.py:184\u001b[39m, in \u001b[36mParentActions.create\u001b[39m\u001b[34m(self, data, include)\u001b[39m\n\u001b[32m    145\u001b[39m \u001b[38;5;28;01masync\u001b[39;00m \u001b[38;5;28;01mdef\u001b[39;00m\u001b[38;5;250m \u001b[39m\u001b[34mcreate\u001b[39m(\n\u001b[32m    146\u001b[39m     \u001b[38;5;28mself\u001b[39m,\n\u001b[32m    147\u001b[39m     data: types.ParentCreateInput,\n\u001b[32m    148\u001b[39m     include: Optional[types.ParentInclude] = \u001b[38;5;28;01mNone\u001b[39;00m\n\u001b[32m    149\u001b[39m ) -> _PrismaModelT:\n\u001b[32m    150\u001b[39m \u001b[38;5;250m    \u001b[39m\u001b[33;03m\"\"\"Create a new Parent record.\u001b[39;00m\n\u001b[32m    151\u001b[39m \n\u001b[32m    152\u001b[39m \u001b[33;03m    Parameters\u001b[39;00m\n\u001b[32m   (...)\u001b[39m\u001b[32m    182\u001b[39m \u001b[33;03m    ```\u001b[39;00m\n\u001b[32m    183\u001b[39m \u001b[33;03m    \"\"\"\u001b[39;00m\n\u001b[32m--> \u001b[39m\u001b[32m184\u001b[39m     resp = \u001b[38;5;28;01mawait\u001b[39;00m \u001b[38;5;28mself\u001b[39m._client._execute(\n\u001b[32m    185\u001b[39m         method=\u001b[33m'\u001b[39m\u001b[33mcreate\u001b[39m\u001b[33m'\u001b[39m,\n\u001b[32m    186\u001b[39m         model=\u001b[38;5;28mself\u001b[39m._model,\n\u001b[32m    187\u001b[39m         arguments={\n\u001b[32m    188\u001b[39m             \u001b[33m'\u001b[39m\u001b[33mdata\u001b[39m\u001b[33m'\u001b[39m: data,\n\u001b[32m    189\u001b[39m             \u001b[33m'\u001b[39m\u001b[33minclude\u001b[39m\u001b[33m'\u001b[39m: include,\n\u001b[32m    190\u001b[39m         },\n\u001b[32m    191\u001b[39m     )\n\u001b[32m    192\u001b[39m     \u001b[38;5;28;01mreturn\u001b[39;00m model_parse(\u001b[38;5;28mself\u001b[39m._model, resp[\u001b[33m'\u001b[39m\u001b[33mdata\u001b[39m\u001b[33m'\u001b[39m][\u001b[33m'\u001b[39m\u001b[33mresult\u001b[39m\u001b[33m'\u001b[39m])\n",
      "\u001b[36mFile \u001b[39m\u001b[32m/usr/local/lib/python3.13/site-packages/prisma/_base_client.py:543\u001b[39m, in \u001b[36mAsyncBasePrisma._execute\u001b[39m\u001b[34m(self, method, arguments, model, root_selection)\u001b[39m\n\u001b[32m    532\u001b[39m \u001b[38;5;28;01masync\u001b[39;00m \u001b[38;5;28;01mdef\u001b[39;00m\u001b[38;5;250m \u001b[39m\u001b[34m_execute\u001b[39m(\n\u001b[32m    533\u001b[39m     \u001b[38;5;28mself\u001b[39m,\n\u001b[32m    534\u001b[39m     *,\n\u001b[32m   (...)\u001b[39m\u001b[32m    538\u001b[39m     root_selection: \u001b[38;5;28mlist\u001b[39m[\u001b[38;5;28mstr\u001b[39m] | \u001b[38;5;28;01mNone\u001b[39;00m = \u001b[38;5;28;01mNone\u001b[39;00m,\n\u001b[32m    539\u001b[39m ) -> Any:\n\u001b[32m    540\u001b[39m     builder = \u001b[38;5;28mself\u001b[39m._make_query_builder(\n\u001b[32m    541\u001b[39m         method=method, model=model, arguments=arguments, root_selection=root_selection\n\u001b[32m    542\u001b[39m     )\n\u001b[32m--> \u001b[39m\u001b[32m543\u001b[39m     \u001b[38;5;28;01mreturn\u001b[39;00m \u001b[38;5;28;01mawait\u001b[39;00m \u001b[38;5;28mself\u001b[39m._engine.query(builder.build(), tx_id=\u001b[38;5;28mself\u001b[39m._tx_id)\n",
      "\u001b[36mFile \u001b[39m\u001b[32m/usr/local/lib/python3.13/site-packages/prisma/engine/_query.py:402\u001b[39m, in \u001b[36mAsyncQueryEngine.query\u001b[39m\u001b[34m(self, content, tx_id)\u001b[39m\n\u001b[32m    399\u001b[39m \u001b[38;5;28;01mif\u001b[39;00m tx_id \u001b[38;5;129;01mis\u001b[39;00m \u001b[38;5;129;01mnot\u001b[39;00m \u001b[38;5;28;01mNone\u001b[39;00m:\n\u001b[32m    400\u001b[39m     headers[\u001b[33m'\u001b[39m\u001b[33mX-transaction-id\u001b[39m\u001b[33m'\u001b[39m] = tx_id\n\u001b[32m--> \u001b[39m\u001b[32m402\u001b[39m \u001b[38;5;28;01mreturn\u001b[39;00m \u001b[38;5;28;01mawait\u001b[39;00m \u001b[38;5;28mself\u001b[39m.request(\n\u001b[32m    403\u001b[39m     \u001b[33m'\u001b[39m\u001b[33mPOST\u001b[39m\u001b[33m'\u001b[39m,\n\u001b[32m    404\u001b[39m     \u001b[33m'\u001b[39m\u001b[33m/\u001b[39m\u001b[33m'\u001b[39m,\n\u001b[32m    405\u001b[39m     content=content,\n\u001b[32m    406\u001b[39m     headers=headers,\n\u001b[32m    407\u001b[39m )\n",
      "\u001b[36mFile \u001b[39m\u001b[32m/usr/local/lib/python3.13/site-packages/prisma/engine/_http.py:233\u001b[39m, in \u001b[36mAsyncHTTPEngine.request\u001b[39m\u001b[34m(self, method, path, content, headers, parse_response)\u001b[39m\n\u001b[32m    230\u001b[39m     data = \u001b[38;5;28;01mawait\u001b[39;00m response.json()\n\u001b[32m    231\u001b[39m     log.debug(\u001b[33m'\u001b[39m\u001b[38;5;132;01m%s\u001b[39;00m\u001b[33m \u001b[39m\u001b[38;5;132;01m%s\u001b[39;00m\u001b[33m returned \u001b[39m\u001b[38;5;132;01m%s\u001b[39;00m\u001b[33m'\u001b[39m, method, url, data)\n\u001b[32m--> \u001b[39m\u001b[32m233\u001b[39m     \u001b[38;5;28;01mreturn\u001b[39;00m \u001b[38;5;28;43mself\u001b[39;49m\u001b[43m.\u001b[49m\u001b[43m_process_response_data\u001b[49m\u001b[43m(\u001b[49m\u001b[43mdata\u001b[49m\u001b[43m=\u001b[49m\u001b[43mdata\u001b[49m\u001b[43m,\u001b[49m\u001b[43m \u001b[49m\u001b[43mresponse\u001b[49m\u001b[43m=\u001b[49m\u001b[43mresponse\u001b[49m\u001b[43m)\u001b[49m\n\u001b[32m    235\u001b[39m \u001b[38;5;28mself\u001b[39m._process_response_error(body=\u001b[38;5;28;01mawait\u001b[39;00m response.text(), response=response)\n",
      "\u001b[36mFile \u001b[39m\u001b[32m/usr/local/lib/python3.13/site-packages/prisma/engine/_http.py:87\u001b[39m, in \u001b[36mBaseHTTPEngine._process_response_data\u001b[39m\u001b[34m(self, data, response)\u001b[39m\n\u001b[32m     85\u001b[39m errors_data = data.get(\u001b[33m'\u001b[39m\u001b[33merrors\u001b[39m\u001b[33m'\u001b[39m)\n\u001b[32m     86\u001b[39m \u001b[38;5;28;01mif\u001b[39;00m errors_data:\n\u001b[32m---> \u001b[39m\u001b[32m87\u001b[39m     \u001b[38;5;28;01mreturn\u001b[39;00m \u001b[43mutils\u001b[49m\u001b[43m.\u001b[49m\u001b[43mhandle_response_errors\u001b[49m\u001b[43m(\u001b[49m\u001b[43mresponse\u001b[49m\u001b[43m,\u001b[49m\u001b[43m \u001b[49m\u001b[43merrors_data\u001b[49m\u001b[43m)\u001b[49m\n\u001b[32m     89\u001b[39m \u001b[38;5;28;01mreturn\u001b[39;00m data\n",
      "\u001b[36mFile \u001b[39m\u001b[32m/usr/local/lib/python3.13/site-packages/prisma/engine/utils.py:181\u001b[39m, in \u001b[36mhandle_response_errors\u001b[39m\u001b[34m(resp, data)\u001b[39m\n\u001b[32m    178\u001b[39m         \u001b[38;5;28;01mcontinue\u001b[39;00m\n\u001b[32m    180\u001b[39m \u001b[38;5;28;01mtry\u001b[39;00m:\n\u001b[32m--> \u001b[39m\u001b[32m181\u001b[39m     \u001b[38;5;28;01mraise\u001b[39;00m prisma_errors.DataError(data[\u001b[32m0\u001b[39m])\n\u001b[32m    182\u001b[39m \u001b[38;5;28;01mexcept\u001b[39;00m (\u001b[38;5;167;01mIndexError\u001b[39;00m, \u001b[38;5;167;01mTypeError\u001b[39;00m):\n\u001b[32m    183\u001b[39m     \u001b[38;5;28;01mpass\u001b[39;00m\n",
      "\u001b[31mDataError\u001b[39m: Unable to match input value to any allowed input type for the field. Parse errors: [Unable to match input value to any allowed input type for the field. Parse errors: [Invalid argument type. `meta` should be of any of the following types: `JsonNullValueInput`, Invalid argument type. `meta` should be of any of the following types: `Json`], Unable to match input value to any allowed input type for the field. Parse errors: [Invalid argument type. `meta` should be of any of the following types: `JsonNullValueInput`, Invalid argument type. `meta` should be of any of the following types: `Json`]]"
     ]
    }
   ],
   "source": [
    "async with Prisma(auto_register=True):\n",
    "\n",
    "    # INSERT: ParentCreateInput は書き換えれないのでエラーが出てしまう...\n",
    "    await Parent.prisma().create(\n",
    "        {\n",
    "            \"name\": \"foo\",\n",
    "            \"meta\": ParentMeta(),\n",
    "            \"children\": {\n",
    "                \"create\": [\n",
    "                    {\n",
    "                        \"name\": \"bar\",\n",
    "                        \"meta\": ChildMeta(),\n",
    "                    }\n",
    "                ]\n",
    "            },\n",
    "        }\n",
    "    )\n",
    "\n",
    "    # SELECT: こちらもエラーが出る\n",
    "    parent = await Parent.prisma().find_first_or_raise(\n",
    "        order={\"created_at\": \"desc\"},\n",
    "        include={\"children\": True},\n",
    "    )\n",
    "    print(type(parent.meta))"
   ]
  },
  {
   "cell_type": "code",
   "execution_count": null,
   "id": "75234aca",
   "metadata": {},
   "outputs": [],
   "source": []
  }
 ],
 "metadata": {
  "kernelspec": {
   "display_name": "Python 3",
   "language": "python",
   "name": "python3"
  },
  "language_info": {
   "codemirror_mode": {
    "name": "ipython",
    "version": 3
   },
   "file_extension": ".py",
   "mimetype": "text/x-python",
   "name": "python",
   "nbconvert_exporter": "python",
   "pygments_lexer": "ipython3",
   "version": "3.13.3"
  }
 },
 "nbformat": 4,
 "nbformat_minor": 5
}
